{
  "cells": [
    {
      "cell_type": "markdown",
      "metadata": {
        "id": "PCQA5Rpyycxh"
      },
      "source": [
        "# Day 15 Hyperparameter Tuning & Optimization\n",
        "\n",
        "In this notebook, we explore **Hyperparameter Tuning & Optimization**, a crucial phase in developing high-performing machine learning models.\n",
        "\n",
        "While model architecture defines *what* a model can learn, **hyperparameters** determine *how effectively* it learns. The right combination improves performance, enhances generalization, and prevents overfitting.\n",
        "\n",
        "---"
      ],
      "id": "PCQA5Rpyycxh"
    },
    {
      "cell_type": "markdown",
      "metadata": {
        "id": "Mr_4QZH9ycxj"
      },
      "source": [
        "## 1. Import Required Libraries"
      ],
      "id": "Mr_4QZH9ycxj"
    },
    {
      "cell_type": "code",
      "execution_count": 3,
      "metadata": {
        "colab": {
          "base_uri": "https://localhost:8080/"
        },
        "id": "6Hyi5-q3ycxj",
        "outputId": "12f45ad2-3d36-41f8-8143-c83557fa1578"
      },
      "outputs": [
        {
          "output_type": "stream",
          "name": "stdout",
          "text": [
            "Requirement already satisfied: optuna in /usr/local/lib/python3.12/dist-packages (4.5.0)\n",
            "Requirement already satisfied: alembic>=1.5.0 in /usr/local/lib/python3.12/dist-packages (from optuna) (1.16.5)\n",
            "Requirement already satisfied: colorlog in /usr/local/lib/python3.12/dist-packages (from optuna) (6.9.0)\n",
            "Requirement already satisfied: numpy in /usr/local/lib/python3.12/dist-packages (from optuna) (2.0.2)\n",
            "Requirement already satisfied: packaging>=20.0 in /usr/local/lib/python3.12/dist-packages (from optuna) (25.0)\n",
            "Requirement already satisfied: sqlalchemy>=1.4.2 in /usr/local/lib/python3.12/dist-packages (from optuna) (2.0.43)\n",
            "Requirement already satisfied: tqdm in /usr/local/lib/python3.12/dist-packages (from optuna) (4.67.1)\n",
            "Requirement already satisfied: PyYAML in /usr/local/lib/python3.12/dist-packages (from optuna) (6.0.3)\n",
            "Requirement already satisfied: Mako in /usr/local/lib/python3.12/dist-packages (from alembic>=1.5.0->optuna) (1.3.10)\n",
            "Requirement already satisfied: typing-extensions>=4.12 in /usr/local/lib/python3.12/dist-packages (from alembic>=1.5.0->optuna) (4.15.0)\n",
            "Requirement already satisfied: greenlet>=1 in /usr/local/lib/python3.12/dist-packages (from sqlalchemy>=1.4.2->optuna) (3.2.4)\n",
            "Requirement already satisfied: MarkupSafe>=0.9.2 in /usr/local/lib/python3.12/dist-packages (from Mako->alembic>=1.5.0->optuna) (3.0.3)\n"
          ]
        }
      ],
      "source": [
        "!pip install optuna\n",
        "import numpy as np\n",
        "import pandas as pd\n",
        "from sklearn.model_selection import train_test_split, GridSearchCV, RandomizedSearchCV\n",
        "from sklearn.ensemble import RandomForestClassifier\n",
        "from sklearn.linear_model import LogisticRegression\n",
        "from sklearn.svm import SVC\n",
        "from sklearn.metrics import classification_report, roc_auc_score, confusion_matrix, roc_curve\n",
        "import matplotlib.pyplot as plt\n",
        "import seaborn as sns\n",
        "import optuna  # For Bayesian Optimization\n",
        "\n"
      ],
      "id": "6Hyi5-q3ycxj"
    },
    {
      "cell_type": "markdown",
      "metadata": {
        "id": "VoaR-lUWycxk"
      },
      "source": [
        "## 2. Load and Prepare the Dataset"
      ],
      "id": "VoaR-lUWycxk"
    },
    {
      "cell_type": "code",
      "execution_count": 4,
      "metadata": {
        "colab": {
          "base_uri": "https://localhost:8080/"
        },
        "id": "yDqQbmvIycxk",
        "outputId": "81e057bc-8771-4fc2-d4ad-28abb51cfa6f"
      },
      "outputs": [
        {
          "output_type": "stream",
          "name": "stdout",
          "text": [
            "Training samples: 455, Testing samples: 114\n"
          ]
        }
      ],
      "source": [
        "from sklearn.datasets import load_breast_cancer\n",
        "\n",
        "data = load_breast_cancer()\n",
        "X = pd.DataFrame(data.data, columns=data.feature_names)\n",
        "y = pd.Series(data.target)\n",
        "\n",
        "X_train, X_test, y_train, y_test = train_test_split(X, y, test_size=0.2, random_state=42, stratify=y)\n",
        "\n",
        "print(f\"Training samples: {X_train.shape[0]}, Testing samples: {X_test.shape[0]}\")"
      ],
      "id": "yDqQbmvIycxk"
    },
    {
      "cell_type": "markdown",
      "metadata": {
        "id": "kqdGCwtdycxl"
      },
      "source": [
        "## 3. Baseline Model (No Tuning)"
      ],
      "id": "kqdGCwtdycxl"
    },
    {
      "cell_type": "code",
      "execution_count": 5,
      "metadata": {
        "colab": {
          "base_uri": "https://localhost:8080/"
        },
        "id": "Q4fD7hxrycxl",
        "outputId": "16cfe492-522f-42b4-9e30-a63de59ea16b"
      },
      "outputs": [
        {
          "output_type": "stream",
          "name": "stdout",
          "text": [
            "              precision    recall  f1-score   support\n",
            "\n",
            "           0       0.95      0.93      0.94        42\n",
            "           1       0.96      0.97      0.97        72\n",
            "\n",
            "    accuracy                           0.96       114\n",
            "   macro avg       0.96      0.95      0.95       114\n",
            "weighted avg       0.96      0.96      0.96       114\n",
            "\n"
          ]
        }
      ],
      "source": [
        "baseline_model = RandomForestClassifier(random_state=42)\n",
        "baseline_model.fit(X_train, y_train)\n",
        "y_pred = baseline_model.predict(X_test)\n",
        "\n",
        "print(classification_report(y_test, y_pred))"
      ],
      "id": "Q4fD7hxrycxl"
    },
    {
      "cell_type": "markdown",
      "metadata": {
        "id": "CllXrSJlycxl"
      },
      "source": [
        "## 4. Grid Search Cross-Validation"
      ],
      "id": "CllXrSJlycxl"
    },
    {
      "cell_type": "code",
      "execution_count": 6,
      "metadata": {
        "colab": {
          "base_uri": "https://localhost:8080/"
        },
        "id": "b5pDIudxycxm",
        "outputId": "802e0d66-6eff-4458-ce7b-f461ccc09af8"
      },
      "outputs": [
        {
          "output_type": "stream",
          "name": "stdout",
          "text": [
            "Fitting 5 folds for each of 108 candidates, totalling 540 fits\n",
            "Best Parameters: {'max_depth': None, 'min_samples_leaf': 1, 'min_samples_split': 2, 'n_estimators': 200}\n",
            "Best Score: 0.9604\n"
          ]
        }
      ],
      "source": [
        "param_grid = {\n",
        "    'n_estimators': [100, 200, 300],\n",
        "    'max_depth': [None, 10, 20, 30],\n",
        "    'min_samples_split': [2, 5, 10],\n",
        "    'min_samples_leaf': [1, 2, 4]\n",
        "}\n",
        "\n",
        "grid_search = GridSearchCV(\n",
        "    estimator=RandomForestClassifier(random_state=42),\n",
        "    param_grid=param_grid,\n",
        "    cv=5,\n",
        "    scoring='accuracy',\n",
        "    n_jobs=-1,\n",
        "    verbose=2\n",
        ")\n",
        "\n",
        "grid_search.fit(X_train, y_train)\n",
        "print(f\"Best Parameters: {grid_search.best_params_}\")\n",
        "print(f\"Best Score: {grid_search.best_score_:.4f}\")"
      ],
      "id": "b5pDIudxycxm"
    },
    {
      "cell_type": "markdown",
      "metadata": {
        "id": "1L1-YdZgycxm"
      },
      "source": [
        "## 5. Random Search Cross-Validation"
      ],
      "id": "1L1-YdZgycxm"
    },
    {
      "cell_type": "code",
      "execution_count": 7,
      "metadata": {
        "colab": {
          "base_uri": "https://localhost:8080/"
        },
        "id": "FUerP0m1ycxm",
        "outputId": "35832b0f-4b96-4552-f5d4-a5ab207bc4bc"
      },
      "outputs": [
        {
          "output_type": "stream",
          "name": "stdout",
          "text": [
            "Best Parameters: {'n_estimators': 300, 'min_samples_split': 5, 'min_samples_leaf': 4, 'max_depth': 20}\n",
            "Best Score: 0.9582\n"
          ]
        }
      ],
      "source": [
        "random_search = RandomizedSearchCV(\n",
        "    estimator=RandomForestClassifier(random_state=42),\n",
        "    param_distributions=param_grid,\n",
        "    n_iter=10,\n",
        "    cv=5,\n",
        "    scoring='accuracy',\n",
        "    n_jobs=-1,\n",
        "    random_state=42\n",
        ")\n",
        "\n",
        "random_search.fit(X_train, y_train)\n",
        "print(f\"Best Parameters: {random_search.best_params_}\")\n",
        "print(f\"Best Score: {random_search.best_score_:.4f}\")"
      ],
      "id": "FUerP0m1ycxm"
    },
    {
      "cell_type": "markdown",
      "metadata": {
        "id": "OjMEKITnycxn"
      },
      "source": [
        "## 6. Bayesian Optimization with Optuna"
      ],
      "id": "OjMEKITnycxn"
    },
    {
      "cell_type": "code",
      "execution_count": 8,
      "metadata": {
        "colab": {
          "base_uri": "https://localhost:8080/"
        },
        "id": "wv0t-Ytfycxn",
        "outputId": "0d421e2b-8b70-4192-b1bb-0d7ed8073285"
      },
      "outputs": [
        {
          "output_type": "stream",
          "name": "stderr",
          "text": [
            "[I 2025-10-13 23:06:22,069] A new study created in memory with name: no-name-e861c3ab-3293-4ca0-966d-cc476a37400f\n",
            "[I 2025-10-13 23:06:23,090] Trial 0 finished with value: 0.9503968253968255 and parameters: {'n_estimators': 395, 'max_depth': 21, 'min_samples_split': 3, 'min_samples_leaf': 5}. Best is trial 0 with value: 0.9503968253968255.\n",
            "[I 2025-10-13 23:06:23,897] Trial 1 finished with value: 0.9503968253968255 and parameters: {'n_estimators': 300, 'max_depth': 6, 'min_samples_split': 8, 'min_samples_leaf': 2}. Best is trial 0 with value: 0.9503968253968255.\n",
            "[I 2025-10-13 23:06:24,394] Trial 2 finished with value: 0.9503968253968255 and parameters: {'n_estimators': 193, 'max_depth': 17, 'min_samples_split': 7, 'min_samples_leaf': 2}. Best is trial 0 with value: 0.9503968253968255.\n",
            "[I 2025-10-13 23:06:25,052] Trial 3 finished with value: 0.9503968253968255 and parameters: {'n_estimators': 248, 'max_depth': 10, 'min_samples_split': 3, 'min_samples_leaf': 3}. Best is trial 0 with value: 0.9503968253968255.\n",
            "[I 2025-10-13 23:06:25,681] Trial 4 finished with value: 0.9503968253968255 and parameters: {'n_estimators': 242, 'max_depth': 10, 'min_samples_split': 2, 'min_samples_leaf': 5}. Best is trial 0 with value: 0.9503968253968255.\n",
            "[I 2025-10-13 23:06:26,767] Trial 5 finished with value: 0.9503968253968255 and parameters: {'n_estimators': 361, 'max_depth': 16, 'min_samples_split': 5, 'min_samples_leaf': 4}. Best is trial 0 with value: 0.9503968253968255.\n",
            "[I 2025-10-13 23:06:27,434] Trial 6 finished with value: 0.9503968253968255 and parameters: {'n_estimators': 167, 'max_depth': 24, 'min_samples_split': 2, 'min_samples_leaf': 4}. Best is trial 0 with value: 0.9503968253968255.\n",
            "[I 2025-10-13 23:06:29,188] Trial 7 finished with value: 0.9503968253968255 and parameters: {'n_estimators': 460, 'max_depth': 5, 'min_samples_split': 3, 'min_samples_leaf': 4}. Best is trial 0 with value: 0.9503968253968255.\n",
            "[I 2025-10-13 23:06:30,483] Trial 8 finished with value: 0.9503968253968255 and parameters: {'n_estimators': 479, 'max_depth': 15, 'min_samples_split': 9, 'min_samples_leaf': 1}. Best is trial 0 with value: 0.9503968253968255.\n",
            "[I 2025-10-13 23:06:31,274] Trial 9 finished with value: 0.9503968253968255 and parameters: {'n_estimators': 308, 'max_depth': 28, 'min_samples_split': 5, 'min_samples_leaf': 4}. Best is trial 0 with value: 0.9503968253968255.\n",
            "[I 2025-10-13 23:06:32,295] Trial 10 finished with value: 0.9503968253968255 and parameters: {'n_estimators': 400, 'max_depth': 23, 'min_samples_split': 5, 'min_samples_leaf': 5}. Best is trial 0 with value: 0.9503968253968255.\n",
            "[I 2025-10-13 23:06:33,239] Trial 11 finished with value: 0.9503968253968255 and parameters: {'n_estimators': 355, 'max_depth': 21, 'min_samples_split': 10, 'min_samples_leaf': 2}. Best is trial 0 with value: 0.9503968253968255.\n",
            "[I 2025-10-13 23:06:33,558] Trial 12 finished with value: 0.9503968253968255 and parameters: {'n_estimators': 113, 'max_depth': 30, 'min_samples_split': 8, 'min_samples_leaf': 2}. Best is trial 0 with value: 0.9503968253968255.\n",
            "[I 2025-10-13 23:06:34,690] Trial 13 finished with value: 0.9503968253968255 and parameters: {'n_estimators': 418, 'max_depth': 11, 'min_samples_split': 7, 'min_samples_leaf': 1}. Best is trial 0 with value: 0.9503968253968255.\n",
            "[I 2025-10-13 23:06:35,533] Trial 14 finished with value: 0.9503968253968255 and parameters: {'n_estimators': 320, 'max_depth': 20, 'min_samples_split': 6, 'min_samples_leaf': 3}. Best is trial 0 with value: 0.9503968253968255.\n",
            "[I 2025-10-13 23:06:36,169] Trial 15 finished with value: 0.9503968253968255 and parameters: {'n_estimators': 242, 'max_depth': 5, 'min_samples_split': 10, 'min_samples_leaf': 2}. Best is trial 0 with value: 0.9503968253968255.\n",
            "[I 2025-10-13 23:06:37,226] Trial 16 finished with value: 0.9503968253968255 and parameters: {'n_estimators': 403, 'max_depth': 14, 'min_samples_split': 4, 'min_samples_leaf': 3}. Best is trial 0 with value: 0.9503968253968255.\n",
            "[I 2025-10-13 23:06:37,937] Trial 17 finished with value: 0.9503968253968255 and parameters: {'n_estimators': 281, 'max_depth': 26, 'min_samples_split': 8, 'min_samples_leaf': 5}. Best is trial 0 with value: 0.9503968253968255.\n",
            "[I 2025-10-13 23:06:38,952] Trial 18 finished with value: 0.9503968253968255 and parameters: {'n_estimators': 364, 'max_depth': 21, 'min_samples_split': 7, 'min_samples_leaf': 1}. Best is trial 0 with value: 0.9503968253968255.\n",
            "[I 2025-10-13 23:06:40,782] Trial 19 finished with value: 0.9503968253968255 and parameters: {'n_estimators': 450, 'max_depth': 8, 'min_samples_split': 9, 'min_samples_leaf': 2}. Best is trial 0 with value: 0.9503968253968255.\n"
          ]
        },
        {
          "output_type": "stream",
          "name": "stdout",
          "text": [
            "Best Trial: {'n_estimators': 395, 'max_depth': 21, 'min_samples_split': 3, 'min_samples_leaf': 5}\n"
          ]
        }
      ],
      "source": [
        "def objective(trial):\n",
        "    n_estimators = trial.suggest_int('n_estimators', 100, 500)\n",
        "    max_depth = trial.suggest_int('max_depth', 5, 30)\n",
        "    min_samples_split = trial.suggest_int('min_samples_split', 2, 10)\n",
        "    min_samples_leaf = trial.suggest_int('min_samples_leaf', 1, 5)\n",
        "\n",
        "    model = RandomForestClassifier(\n",
        "        n_estimators=n_estimators,\n",
        "        max_depth=max_depth,\n",
        "        min_samples_split=min_samples_split,\n",
        "        min_samples_leaf=min_samples_leaf,\n",
        "        random_state=42\n",
        "    )\n",
        "    model.fit(X_train, y_train)\n",
        "    preds = model.predict(X_test)\n",
        "    return roc_auc_score(y_test, preds)\n",
        "\n",
        "study = optuna.create_study(direction='maximize')\n",
        "study.optimize(objective, n_trials=20)\n",
        "\n",
        "print(f\"Best Trial: {study.best_trial.params}\")"
      ],
      "id": "wv0t-Ytfycxn"
    },
    {
      "cell_type": "markdown",
      "metadata": {
        "id": "F4LeL8BVycxn"
      },
      "source": [
        "## 7. Evaluate the Best Model"
      ],
      "id": "F4LeL8BVycxn"
    },
    {
      "cell_type": "code",
      "execution_count": 9,
      "metadata": {
        "colab": {
          "base_uri": "https://localhost:8080/",
          "height": 608
        },
        "id": "l9LbrOEyycxn",
        "outputId": "75aac5bf-b482-440b-c9e1-0b61e643db73"
      },
      "outputs": [
        {
          "output_type": "stream",
          "name": "stdout",
          "text": [
            "              precision    recall  f1-score   support\n",
            "\n",
            "           0       0.95      0.93      0.94        42\n",
            "           1       0.96      0.97      0.97        72\n",
            "\n",
            "    accuracy                           0.96       114\n",
            "   macro avg       0.96      0.95      0.95       114\n",
            "weighted avg       0.96      0.96      0.96       114\n",
            "\n"
          ]
        },
        {
          "output_type": "display_data",
          "data": {
            "text/plain": [
              "<Figure size 640x480 with 2 Axes>"
            ],
            "image/png": "[encoded data removed]"
          },
          "metadata": {}
        }
      ],
      "source": [
        "best_model = RandomForestClassifier(**study.best_trial.params, random_state=42)\n",
        "best_model.fit(X_train, y_train)\n",
        "y_pred_best = best_model.predict(X_test)\n",
        "\n",
        "print(classification_report(y_test, y_pred_best))\n",
        "sns.heatmap(confusion_matrix(y_test, y_pred_best), annot=True, fmt='d', cmap='Blues')\n",
        "plt.title('Confusion Matrix - Best Model')\n",
        "plt.show()"
      ],
      "id": "l9LbrOEyycxn"
    },
    {
      "cell_type": "markdown",
      "metadata": {
        "id": "gNZYlecjycxn"
      },
      "source": [
        "## ✨ 8. Key Takeaways\n",
        "- **Hyperparameter tuning** transforms average models into high-performing, production-ready systems.\n",
        "- **Grid Search** ensures exhaustive exploration, while **Random Search** provides efficiency.\n",
        "- **Bayesian Optimization (Optuna)** intelligently navigates the parameter space.\n",
        "- The goal is to balance exploration, accuracy, and computational cost.\n",
        "\n",
        "Optimization ensures that models not only perform well in development but also **generalize effectively** in real-world scenarios."
      ],
      "id": "gNZYlecjycxn"
    }
  ],
  "metadata": {
    "kernelspec": {
      "display_name": "Python 3",
      "language": "python",
      "name": "python3"
    },
    "language_info": {
      "name": "python",
      "version": "3.x"
    },
    "colab": {
      "provenance": []
    }
  },
  "nbformat": 4,
  "nbformat_minor": 5
}