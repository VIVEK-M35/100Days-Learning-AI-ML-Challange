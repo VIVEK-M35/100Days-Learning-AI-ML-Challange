{
  "cells": [
    {
      "cell_type": "markdown",
      "id": "aa23aada",
      "metadata": {
        "id": "aa23aada"
      },
      "source": [
        "#  Day 11: Regularization Techniques in Machine Learning\n",
        "In this notebook, we explore **regularization techniques** that help prevent overfitting and improve model generalization.\n",
        "\n",
        "We’ll cover:\n",
        "- L1 Regularization (Lasso)\n",
        "- L2 Regularization (Ridge)\n",
        "- Elastic Net\n",
        "- How regularization affects model performance and feature weights\n",
        "- Hyperparameter tuning for regularization strength"
      ]
    },
    {
      "cell_type": "code",
      "execution_count": 19,
      "id": "a634075b",
      "metadata": {
        "id": "a634075b"
      },
      "outputs": [],
      "source": [
        "import numpy as np\n",
        "import pandas as pd\n",
        "from sklearn.datasets import make_regression  # removed load_boston\n",
        "from sklearn.linear_model import LinearRegression, Ridge, Lasso, ElasticNet\n",
        "from sklearn.model_selection import train_test_split, cross_val_score, GridSearchCV\n",
        "from sklearn.metrics import mean_squared_error, r2_score\n",
        "import matplotlib.pyplot as plt\n",
        "\n"
      ]
    },
    {
      "cell_type": "markdown",
      "id": "a827fecf",
      "metadata": {
        "id": "a827fecf"
      },
      "source": [
        "## Load Dataset\n",
        "We'll use a synthetic regression dataset for demonstration."
      ]
    },
    {
      "cell_type": "code",
      "execution_count": 3,
      "id": "635b04fc",
      "metadata": {
        "colab": {
          "base_uri": "https://localhost:8080/"
        },
        "id": "635b04fc",
        "outputId": "0e73a048-2fea-40fb-b76e-c9d8ea436b7b"
      },
      "outputs": [
        {
          "output_type": "execute_result",
          "data": {
            "text/plain": [
              "((160, 20), (40, 20))"
            ]
          },
          "metadata": {},
          "execution_count": 3
        }
      ],
      "source": [
        "from sklearn.datasets import make_regression\n",
        "from sklearn.model_selection import train_test_split\n",
        "\n",
        "# Generate synthetic regression dataset\n",
        "X, y = make_regression(n_samples=200, n_features=20, noise=10, random_state=42)\n",
        "\n",
        "# Split into train and test sets\n",
        "X_train, X_test, y_train, y_test = train_test_split(X, y, test_size=0.2, random_state=42)\n",
        "\n",
        "X_train.shape, X_test.shape\n"
      ]
    },
    {
      "cell_type": "markdown",
      "id": "9adbbd5c",
      "metadata": {
        "id": "9adbbd5c"
      },
      "source": [
        "## Baseline: Linear Regression (No Regularization)\n",
        "Let's start with a plain linear regression model."
      ]
    },
    {
      "cell_type": "code",
      "execution_count": 5,
      "id": "083b9e22",
      "metadata": {
        "colab": {
          "base_uri": "https://localhost:8080/"
        },
        "id": "083b9e22",
        "outputId": "4fdfc5a7-0d7e-4019-c78b-62e5c61b6587"
      },
      "outputs": [
        {
          "output_type": "stream",
          "name": "stdout",
          "text": [
            "MSE: 107.76833164199533\n",
            "R²: 0.9954215490763593\n"
          ]
        }
      ],
      "source": [
        "from sklearn.linear_model import LinearRegression\n",
        "from sklearn.metrics import mean_squared_error, r2_score\n",
        "\n",
        "# Train Linear Regression model\n",
        "lin_reg = LinearRegression()\n",
        "lin_reg.fit(X_train, y_train)\n",
        "\n",
        "# Predict on test set\n",
        "y_pred = lin_reg.predict(X_test)\n",
        "\n",
        "# Evaluate\n",
        "print(\"MSE:\", mean_squared_error(y_test, y_pred))\n",
        "print(\"R²:\", r2_score(y_test, y_pred))\n"
      ]
    },
    {
      "cell_type": "markdown",
      "id": "58a70218",
      "metadata": {
        "id": "58a70218"
      },
      "source": [
        "## Ridge Regression (L2)\n",
        "Penalizes large coefficients by squaring them, helping to reduce variance."
      ]
    },
    {
      "cell_type": "code",
      "execution_count": 7,
      "id": "6a38895a",
      "metadata": {
        "colab": {
          "base_uri": "https://localhost:8080/"
        },
        "id": "6a38895a",
        "outputId": "b92e4676-0c47-4721-b142-e897c8891649"
      },
      "outputs": [
        {
          "output_type": "stream",
          "name": "stdout",
          "text": [
            "MSE: 104.35797703542544\n",
            "R²: 0.9955664352498806\n"
          ]
        }
      ],
      "source": [
        "from sklearn.linear_model import Ridge\n",
        "from sklearn.metrics import mean_squared_error, r2_score\n",
        "\n",
        "# Train Ridge Regression model\n",
        "ridge = Ridge(alpha=1.0)\n",
        "ridge.fit(X_train, y_train)\n",
        "\n",
        "# Predict on test set\n",
        "y_pred_ridge = ridge.predict(X_test)\n",
        "\n",
        "# Evaluate\n",
        "print(\"MSE:\", mean_squared_error(y_test, y_pred_ridge))\n",
        "print(\"R²:\", r2_score(y_test, y_pred_ridge))\n"
      ]
    },
    {
      "cell_type": "markdown",
      "id": "818d73ad",
      "metadata": {
        "id": "818d73ad"
      },
      "source": [
        "## Lasso Regression (L1)\n",
        "Encourages sparsity by driving some coefficients to zero, useful for feature selection."
      ]
    },
    {
      "cell_type": "code",
      "execution_count": 11,
      "id": "791d0603",
      "metadata": {
        "colab": {
          "base_uri": "https://localhost:8080/"
        },
        "id": "791d0603",
        "outputId": "f8a7a25b-40d8-4b3e-daa3-88a43d45a079"
      },
      "outputs": [
        {
          "output_type": "stream",
          "name": "stdout",
          "text": [
            "MSE: 106.2254023252071\n",
            "R²: 0.9954870991878617\n"
          ]
        }
      ],
      "source": [
        "from sklearn.linear_model import Lasso\n",
        "from sklearn.metrics import mean_squared_error, r2_score\n",
        "\n",
        "# Train Lasso Regression model\n",
        "lasso = Lasso(alpha=0.1)\n",
        "lasso.fit(X_train, y_train)\n",
        "\n",
        "# Predict on test set\n",
        "y_pred_lasso = lasso.predict(X_test)\n",
        "\n",
        "# Evaluate\n",
        "print(\"MSE:\", mean_squared_error(y_test, y_pred_lasso))\n",
        "print(\"R²:\", r2_score(y_test, y_pred_lasso))\n"
      ]
    },
    {
      "cell_type": "markdown",
      "id": "9067012f",
      "metadata": {
        "id": "9067012f"
      },
      "source": [
        "## Elastic Net (L1 + L2)\n",
        "Combines Lasso and Ridge, balancing between sparsity and coefficient shrinkage."
      ]
    },
    {
      "cell_type": "code",
      "execution_count": 13,
      "id": "4ff5e3be",
      "metadata": {
        "colab": {
          "base_uri": "https://localhost:8080/"
        },
        "id": "4ff5e3be",
        "outputId": "cf1f756b-eddd-4496-b035-0c8f1c075d83"
      },
      "outputs": [
        {
          "output_type": "stream",
          "name": "stdout",
          "text": [
            "MSE: 134.4601140665707\n",
            "R²: 0.994287570160351\n"
          ]
        }
      ],
      "source": [
        "from sklearn.linear_model import ElasticNet\n",
        "from sklearn.metrics import mean_squared_error, r2_score\n",
        "\n",
        "# Train Elastic Net model\n",
        "elastic = ElasticNet(alpha=0.1, l1_ratio=0.5)\n",
        "elastic.fit(X_train, y_train)\n",
        "\n",
        "# Predict on test set\n",
        "y_pred_elastic = elastic.predict(X_test)\n",
        "\n",
        "# Evaluate\n",
        "print(\"MSE:\", mean_squared_error(y_test, y_pred_elastic))\n",
        "print(\"R²:\", r2_score(y_test, y_pred_elastic))\n"
      ]
    },
    {
      "cell_type": "markdown",
      "id": "18e571fe",
      "metadata": {
        "id": "18e571fe"
      },
      "source": [
        "## Coefficient Comparison\n",
        "Let's compare how coefficients shrink under different regularization methods."
      ]
    },
    {
      "cell_type": "code",
      "execution_count": 15,
      "id": "7d927e7b",
      "metadata": {
        "colab": {
          "base_uri": "https://localhost:8080/",
          "height": 564
        },
        "id": "7d927e7b",
        "outputId": "cbc25956-f52a-4446-8ddd-cbefd71ecabb"
      },
      "outputs": [
        {
          "output_type": "display_data",
          "data": {
            "text/plain": [
              "<Figure size 1200x600 with 1 Axes>"
            ],
            "image/png": "[encoded data removed]"
          },
          "metadata": {}
        }
      ],
      "source": [
        "import matplotlib.pyplot as plt\n",
        "\n",
        "# Plot coefficient comparison\n",
        "plt.figure(figsize=(12,6))\n",
        "plt.plot(lin_reg.coef_, 'o', label='Linear Regression')\n",
        "plt.plot(ridge.coef_, 's', label='Ridge')\n",
        "plt.plot(lasso.coef_, 'x', label='Lasso')\n",
        "plt.plot(elastic.coef_, 'd', label='Elastic Net')\n",
        "plt.legend()\n",
        "plt.title(\"Coefficient Comparison Across Models\")\n",
        "plt.xlabel(\"Feature Index\")\n",
        "plt.ylabel(\"Coefficient Value\")\n",
        "plt.show()\n"
      ]
    },
    {
      "cell_type": "markdown",
      "id": "5f8c7fdd",
      "metadata": {
        "id": "5f8c7fdd"
      },
      "source": [
        "## Hyperparameter Tuning with Cross-Validation\n",
        "We can tune the alpha value using GridSearchCV."
      ]
    },
    {
      "cell_type": "code",
      "execution_count": 17,
      "id": "8707e6e4",
      "metadata": {
        "colab": {
          "base_uri": "https://localhost:8080/"
        },
        "id": "8707e6e4",
        "outputId": "58a3e4c9-5403-48d1-d5a1-8db7108c3f05"
      },
      "outputs": [
        {
          "output_type": "stream",
          "name": "stdout",
          "text": [
            "Best alpha: {'alpha': 0.1}\n",
            "Best CV Score: 0.9946606452407633\n"
          ]
        }
      ],
      "source": [
        "from sklearn.linear_model import Ridge\n",
        "from sklearn.model_selection import GridSearchCV\n",
        "\n",
        "# Define hyperparameter grid\n",
        "param_grid = {'alpha': [0.01, 0.1, 1, 10, 100]}\n",
        "\n",
        "# Perform Grid Search with cross-validation\n",
        "grid = GridSearchCV(Ridge(), param_grid, cv=5, scoring='r2')\n",
        "grid.fit(X_train, y_train)\n",
        "\n",
        "# Results\n",
        "print(\"Best alpha:\", grid.best_params_)\n",
        "print(\"Best CV Score:\", grid.best_score_)\n"
      ]
    },
    {
      "cell_type": "markdown",
      "id": "dc4ce043",
      "metadata": {
        "id": "dc4ce043"
      },
      "source": [
        "## ✨ Key Takeaways\n",
        "- **Ridge (L2)**: Shrinks coefficients, reduces variance.\n",
        "- **Lasso (L1)**: Encourages sparsity, performs feature selection.\n",
        "- **Elastic Net**: A balance between Ridge and Lasso.\n",
        "- Regularization strength (`alpha`) is crucial — too high leads to underfitting, too low leads to overfitting.\n",
        "\n",
        "Regularization improves generalization, especially in high-dimensional datasets."
      ]
    }
  ],
  "metadata": {
    "colab": {
      "provenance": []
    },
    "language_info": {
      "name": "python"
    },
    "kernelspec": {
      "name": "python3",
      "display_name": "Python 3"
    }
  },
  "nbformat": 4,
  "nbformat_minor": 5
}