{
  "cells": [
    {
      "cell_type": "markdown",
      "id": "9b485540",
      "metadata": {
        "id": "9b485540"
      },
      "source": [
        "# Day 8: Hyperparameter Tuning\n",
        "\n",
        "In this notebook, we’ll explore:\n",
        "\n",
        "- Why hyperparameters matter\n",
        "- Grid Search (exhaustive but costly)\n",
        "- Random Search (faster, often surprisingly effective)\n",
        "- Bayesian Optimization (guided search)\n",
        "- Importance of cross-validation\n",
        "- Comparing runtime vs. performance\n"
      ]
    },
    {
      "cell_type": "code",
      "execution_count": 8,
      "id": "ef9fe931",
      "metadata": {
        "colab": {
          "base_uri": "https://localhost:8080/"
        },
        "id": "ef9fe931",
        "outputId": "c6e66ae9-a42f-423a-8815-91688e581347"
      },
      "outputs": [
        {
          "output_type": "stream",
          "name": "stdout",
          "text": [
            "Collecting scikit-optimize\n",
            "  Downloading scikit_optimize-0.10.2-py2.py3-none-any.whl.metadata (9.7 kB)\n",
            "Requirement already satisfied: joblib>=0.11 in /usr/local/lib/python3.12/dist-packages (from scikit-optimize) (1.5.2)\n",
            "Collecting pyaml>=16.9 (from scikit-optimize)\n",
            "  Downloading pyaml-25.7.0-py3-none-any.whl.metadata (12 kB)\n",
            "Requirement already satisfied: numpy>=1.20.3 in /usr/local/lib/python3.12/dist-packages (from scikit-optimize) (2.0.2)\n",
            "Requirement already satisfied: scipy>=1.1.0 in /usr/local/lib/python3.12/dist-packages (from scikit-optimize) (1.16.2)\n",
            "Requirement already satisfied: scikit-learn>=1.0.0 in /usr/local/lib/python3.12/dist-packages (from scikit-optimize) (1.6.1)\n",
            "Requirement already satisfied: packaging>=21.3 in /usr/local/lib/python3.12/dist-packages (from scikit-optimize) (25.0)\n",
            "Requirement already satisfied: PyYAML in /usr/local/lib/python3.12/dist-packages (from pyaml>=16.9->scikit-optimize) (6.0.2)\n",
            "Requirement already satisfied: threadpoolctl>=3.1.0 in /usr/local/lib/python3.12/dist-packages (from scikit-learn>=1.0.0->scikit-optimize) (3.6.0)\n",
            "Downloading scikit_optimize-0.10.2-py2.py3-none-any.whl (107 kB)\n",
            "\u001b[2K   \u001b[90m━━━━━━━━━━━━━━━━━━━━━━━━━━━━━━━━━━━━━━━━\u001b[0m \u001b[32m107.8/107.8 kB\u001b[0m \u001b[31m8.6 MB/s\u001b[0m eta \u001b[36m0:00:00\u001b[0m\n",
            "\u001b[?25hDownloading pyaml-25.7.0-py3-none-any.whl (26 kB)\n",
            "Installing collected packages: pyaml, scikit-optimize\n",
            "Successfully installed pyaml-25.7.0 scikit-optimize-0.10.2\n"
          ]
        }
      ],
      "source": [
        "import numpy as np\n",
        "import matplotlib.pyplot as plt\n",
        "from sklearn.model_selection import train_test_split, GridSearchCV, RandomizedSearchCV\n",
        "from sklearn.ensemble import RandomForestRegressor\n",
        "from sklearn.metrics import mean_squared_error\n",
        "from sklearn.datasets import make_regression\n",
        "!pip install scikit-optimize\n",
        "from skopt import BayesSearchCV\n",
        "from skopt.space import Integer, Real\n"
      ]
    },
    {
      "cell_type": "code",
      "execution_count": 3,
      "id": "1836437a",
      "metadata": {
        "id": "1836437a"
      },
      "outputs": [],
      "source": [
        "# Generate synthetic regression dataset\n",
        "X, y = make_regression(n_samples=1000, n_features=20, noise=15, random_state=42)\n",
        "X_train, X_test, y_train, y_test = train_test_split(X, y, test_size=0.2, random_state=42)"
      ]
    },
    {
      "cell_type": "code",
      "execution_count": 4,
      "id": "656f9d99",
      "metadata": {
        "colab": {
          "base_uri": "https://localhost:8080/"
        },
        "id": "656f9d99",
        "outputId": "3edda426-1b20-4ef8-9cde-87269953c0f7"
      },
      "outputs": [
        {
          "output_type": "stream",
          "name": "stdout",
          "text": [
            "Baseline Random Forest MSE: 7466.037018788755\n"
          ]
        }
      ],
      "source": [
        "# Baseline Model: Random Forest\n",
        "rf = RandomForestRegressor(random_state=42)\n",
        "rf.fit(X_train, y_train)\n",
        "y_pred = rf.predict(X_test)\n",
        "\n",
        "baseline_mse = mean_squared_error(y_test, y_pred)\n",
        "print(\"Baseline Random Forest MSE:\", baseline_mse)"
      ]
    },
    {
      "cell_type": "code",
      "execution_count": 5,
      "id": "90d9f5b4",
      "metadata": {
        "colab": {
          "base_uri": "https://localhost:8080/"
        },
        "id": "90d9f5b4",
        "outputId": "2d55966f-b542-442e-b751-5a9423ffdb9d"
      },
      "outputs": [
        {
          "output_type": "stream",
          "name": "stdout",
          "text": [
            "Best Params (Grid Search): {'max_depth': None, 'min_samples_split': 2, 'n_estimators': 200}\n",
            "Best Score (Grid Search): 8932.084420551786\n"
          ]
        }
      ],
      "source": [
        "# Grid Search\n",
        "param_grid = {\n",
        "    \"n_estimators\": [50, 100, 200],\n",
        "    \"max_depth\": [None, 10, 20],\n",
        "    \"min_samples_split\": [2, 5, 10]\n",
        "}\n",
        "\n",
        "grid_search = GridSearchCV(RandomForestRegressor(random_state=42),\n",
        "                           param_grid,\n",
        "                           cv=3,\n",
        "                           scoring=\"neg_mean_squared_error\",\n",
        "                           n_jobs=-1)\n",
        "\n",
        "grid_search.fit(X_train, y_train)\n",
        "print(\"Best Params (Grid Search):\", grid_search.best_params_)\n",
        "print(\"Best Score (Grid Search):\", -grid_search.best_score_)"
      ]
    },
    {
      "cell_type": "code",
      "execution_count": 6,
      "id": "c345f1cd",
      "metadata": {
        "colab": {
          "base_uri": "https://localhost:8080/"
        },
        "id": "c345f1cd",
        "outputId": "2157b073-e243-47a6-8d70-268f3cad4562"
      },
      "outputs": [
        {
          "output_type": "stream",
          "name": "stdout",
          "text": [
            "Best Params (Random Search): {'n_estimators': np.int64(240), 'min_samples_split': np.int64(4), 'max_depth': None}\n",
            "Best Score (Random Search): 8960.890054396477\n"
          ]
        }
      ],
      "source": [
        "# Random Search\n",
        "param_dist = {\n",
        "    \"n_estimators\": np.arange(50, 300, 10),\n",
        "    \"max_depth\": [None] + list(np.arange(5, 30, 5)),\n",
        "    \"min_samples_split\": np.arange(2, 15)\n",
        "}\n",
        "\n",
        "random_search = RandomizedSearchCV(RandomForestRegressor(random_state=42),\n",
        "                                   param_distributions=param_dist,\n",
        "                                   n_iter=20,\n",
        "                                   cv=3,\n",
        "                                   scoring=\"neg_mean_squared_error\",\n",
        "                                   random_state=42,\n",
        "                                   n_jobs=-1)\n",
        "\n",
        "random_search.fit(X_train, y_train)\n",
        "print(\"Best Params (Random Search):\", random_search.best_params_)\n",
        "print(\"Best Score (Random Search):\", -random_search.best_score_)"
      ]
    },
    {
      "cell_type": "code",
      "execution_count": 9,
      "id": "10645c4b",
      "metadata": {
        "colab": {
          "base_uri": "https://localhost:8080/"
        },
        "id": "10645c4b",
        "outputId": "3c4a005f-b2b7-4671-9110-3a766f8913fb"
      },
      "outputs": [
        {
          "output_type": "stream",
          "name": "stdout",
          "text": [
            "Best Params (Bayesian Optimization): OrderedDict({'max_depth': 30, 'min_samples_split': 2, 'n_estimators': 295})\n",
            "Best Score (Bayesian Optimization): 8877.605833744674\n"
          ]
        }
      ],
      "source": [
        "# Bayesian Optimization\n",
        "search_spaces = {\n",
        "    \"n_estimators\": Integer(50, 300),\n",
        "    \"max_depth\": Integer(5, 30),\n",
        "    \"min_samples_split\": Integer(2, 15)\n",
        "}\n",
        "\n",
        "bayes_search = BayesSearchCV(RandomForestRegressor(random_state=42),\n",
        "                             search_spaces,\n",
        "                             n_iter=20,\n",
        "                             cv=3,\n",
        "                             scoring=\"neg_mean_squared_error\",\n",
        "                             random_state=42,\n",
        "                             n_jobs=-1)\n",
        "\n",
        "bayes_search.fit(X_train, y_train)\n",
        "print(\"Best Params (Bayesian Optimization):\", bayes_search.best_params_)\n",
        "print(\"Best Score (Bayesian Optimization):\", -bayes_search.best_score_)"
      ]
    },
    {
      "cell_type": "code",
      "execution_count": 10,
      "id": "e910bc77",
      "metadata": {
        "colab": {
          "base_uri": "https://localhost:8080/",
          "height": 545
        },
        "id": "e910bc77",
        "outputId": "259e65b4-03ee-4aca-bb3d-284ec1876fce"
      },
      "outputs": [
        {
          "output_type": "display_data",
          "data": {
            "text/plain": [
              "<Figure size 800x600 with 1 Axes>"
            ],
            "image/png": "[encoded data removed]"
          },
          "metadata": {}
        }
      ],
      "source": [
        "# Visualization: Comparison of methods\n",
        "methods = [\"Baseline\", \"Grid Search\", \"Random Search\", \"Bayesian Opt.\"]\n",
        "scores = [\n",
        "    baseline_mse,\n",
        "    mean_squared_error(y_test, grid_search.best_estimator_.predict(X_test)),\n",
        "    mean_squared_error(y_test, random_search.best_estimator_.predict(X_test)),\n",
        "    mean_squared_error(y_test, bayes_search.best_estimator_.predict(X_test))\n",
        "]\n",
        "\n",
        "plt.figure(figsize=(8,6))\n",
        "plt.bar(methods, scores, color=[\"gray\", \"blue\", \"orange\", \"green\"])\n",
        "plt.ylabel(\"MSE (Lower is Better)\")\n",
        "plt.title(\"Hyperparameter Tuning Comparison\")\n",
        "plt.show()"
      ]
    },
    {
      "cell_type": "markdown",
      "id": "847298fe",
      "metadata": {
        "id": "847298fe"
      },
      "source": [
        "# Key Takeaway\n",
        "Hyperparameter tuning feels like adjusting the dials on a machine —\n",
        "too much in one direction, and the model underfits\n",
        "too much in another, and it overfits.\n",
        "Smart tuning unlocks a model’s true potential without overcomplicating things."
      ]
    },
    {
      "cell_type": "code",
      "source": [],
      "metadata": {
        "id": "Vcz2LSTddNjo"
      },
      "id": "Vcz2LSTddNjo",
      "execution_count": null,
      "outputs": []
    }
  ],
  "metadata": {
    "colab": {
      "provenance": []
    },
    "language_info": {
      "name": "python"
    },
    "kernelspec": {
      "name": "python3",
      "display_name": "Python 3"
    }
  },
  "nbformat": 4,
  "nbformat_minor": 5
}