{
  "cells": [
    {
      "cell_type": "markdown",
      "id": "e263a6cf",
      "metadata": {
        "id": "e263a6cf"
      },
      "source": [
        "\n",
        "# Day 14 of My 100 Days of AI/ML Challenge\n",
        "\n",
        "## Focus: Model Evaluation & Cross-Validation Techniques\n",
        "\n",
        "Model evaluation ensures that our machine learning models are **robust, generalizable, and trustworthy**.  \n",
        "Today, we'll explore techniques like **train/test splits**, **cross-validation**, and **evaluation metrics** that help us assess how well our models perform on unseen data.\n"
      ]
    },
    {
      "cell_type": "markdown",
      "id": "bd22378f",
      "metadata": {
        "id": "bd22378f"
      },
      "source": [
        "\n",
        "## Key Concepts\n",
        "\n",
        "### 1. Train/Test Split\n",
        "Divide your dataset into **training** and **testing** subsets to evaluate model performance on unseen data.\n",
        "\n",
        "### 2. Cross-Validation (CV)\n",
        "Cross-validation is a robust method for estimating model performance using multiple folds of data.\n",
        "\n",
        "- **K-Fold CV:** Split data into K parts, train on K-1, test on 1, and rotate.  \n",
        "- **Stratified K-Fold:** Maintains class balance for classification tasks.  \n",
        "- **Leave-One-Out CV (LOOCV):** Uses all but one data point for training, tests on the remaining.\n",
        "\n",
        "### 3. Evaluation Metrics\n",
        "Key metrics vary depending on the problem type:\n",
        "\n",
        "- **Classification:** Accuracy, Precision, Recall, F1-Score, ROC-AUC, Confusion Matrix.  \n",
        "- **Regression:** MAE, MSE, RMSE, R² Score.\n",
        "\n",
        "### 4. Model Selection and Hyperparameter Tuning\n",
        "Use **GridSearchCV** or **RandomizedSearchCV** to combine cross-validation with hyperparameter optimization.\n"
      ]
    },
    {
      "cell_type": "code",
      "execution_count": 1,
      "id": "bf8c4e36",
      "metadata": {
        "colab": {
          "base_uri": "https://localhost:8080/"
        },
        "id": "bf8c4e36",
        "outputId": "33bb244b-a283-42f9-b92f-c8dba9b0f93b"
      },
      "outputs": [
        {
          "output_type": "stream",
          "name": "stdout",
          "text": [
            "Data shape: (150, 4)\n",
            "Target classes: [0 1 2]\n"
          ]
        }
      ],
      "source": [
        "\n",
        "# Import required libraries\n",
        "import numpy as np\n",
        "import pandas as pd\n",
        "from sklearn.datasets import load_iris\n",
        "from sklearn.model_selection import train_test_split, KFold, StratifiedKFold, cross_val_score, GridSearchCV\n",
        "from sklearn.linear_model import LogisticRegression\n",
        "from sklearn.metrics import accuracy_score, classification_report, confusion_matrix\n",
        "import matplotlib.pyplot as plt\n",
        "import seaborn as sns\n",
        "\n",
        "# Load dataset\n",
        "iris = load_iris()\n",
        "X = iris.data\n",
        "y = iris.target\n",
        "\n",
        "print(f\"Data shape: {X.shape}\")\n",
        "print(f\"Target classes: {np.unique(y)}\")\n"
      ]
    },
    {
      "cell_type": "code",
      "execution_count": 2,
      "id": "5131e0ce",
      "metadata": {
        "colab": {
          "base_uri": "https://localhost:8080/"
        },
        "id": "5131e0ce",
        "outputId": "b6c074ae-c13a-4f3f-9a92-9b9bffaacc28"
      },
      "outputs": [
        {
          "output_type": "stream",
          "name": "stdout",
          "text": [
            "Accuracy on Test Set: 0.9666666666666667\n",
            "\n",
            "Classification Report:\n",
            "               precision    recall  f1-score   support\n",
            "\n",
            "           0       1.00      1.00      1.00        10\n",
            "           1       1.00      0.90      0.95        10\n",
            "           2       0.91      1.00      0.95        10\n",
            "\n",
            "    accuracy                           0.97        30\n",
            "   macro avg       0.97      0.97      0.97        30\n",
            "weighted avg       0.97      0.97      0.97        30\n",
            "\n"
          ]
        }
      ],
      "source": [
        "\n",
        "# Split dataset into training and testing sets\n",
        "X_train, X_test, y_train, y_test = train_test_split(X, y, test_size=0.2, random_state=42, stratify=y)\n",
        "\n",
        "model = LogisticRegression(max_iter=200)\n",
        "model.fit(X_train, y_train)\n",
        "y_pred = model.predict(X_test)\n",
        "\n",
        "print(\"Accuracy on Test Set:\", accuracy_score(y_test, y_pred))\n",
        "print(\"\\nClassification Report:\\n\", classification_report(y_test, y_pred))\n"
      ]
    },
    {
      "cell_type": "code",
      "execution_count": 3,
      "id": "84809580",
      "metadata": {
        "colab": {
          "base_uri": "https://localhost:8080/"
        },
        "id": "84809580",
        "outputId": "ae3bab1a-f04d-45e6-bd58-e9cdac7e7510"
      },
      "outputs": [
        {
          "output_type": "stream",
          "name": "stdout",
          "text": [
            "Cross-Validation Scores: [1.         1.         0.93333333 0.96666667 0.96666667]\n",
            "Mean CV Accuracy: 0.9733333333333334\n"
          ]
        }
      ],
      "source": [
        "\n",
        "# Apply K-Fold Cross-Validation\n",
        "kf = KFold(n_splits=5, shuffle=True, random_state=42)\n",
        "cv_scores = cross_val_score(model, X, y, cv=kf, scoring='accuracy')\n",
        "\n",
        "print(\"Cross-Validation Scores:\", cv_scores)\n",
        "print(\"Mean CV Accuracy:\", np.mean(cv_scores))\n"
      ]
    },
    {
      "cell_type": "code",
      "execution_count": 4,
      "id": "36c97dfb",
      "metadata": {
        "colab": {
          "base_uri": "https://localhost:8080/"
        },
        "id": "36c97dfb",
        "outputId": "7d40488b-4014-4dde-daf9-aac5ccf7f9e2"
      },
      "outputs": [
        {
          "output_type": "stream",
          "name": "stdout",
          "text": [
            "Stratified K-Fold Scores: [1.         0.96666667 0.93333333 1.         0.93333333]\n",
            "Mean Stratified CV Accuracy: 0.9666666666666668\n"
          ]
        }
      ],
      "source": [
        "\n",
        "# Stratified K-Fold preserves class distribution\n",
        "skf = StratifiedKFold(n_splits=5, shuffle=True, random_state=42)\n",
        "strat_scores = cross_val_score(model, X, y, cv=skf, scoring='accuracy')\n",
        "\n",
        "print(\"Stratified K-Fold Scores:\", strat_scores)\n",
        "print(\"Mean Stratified CV Accuracy:\", np.mean(strat_scores))\n"
      ]
    },
    {
      "cell_type": "code",
      "execution_count": 5,
      "id": "f1213d58",
      "metadata": {
        "colab": {
          "base_uri": "https://localhost:8080/",
          "height": 410
        },
        "id": "f1213d58",
        "outputId": "d6a0da5b-e628-46bb-f337-8c0ddc1c0252"
      },
      "outputs": [
        {
          "output_type": "display_data",
          "data": {
            "text/plain": [
              "<Figure size 600x400 with 2 Axes>"
            ],
            "image/png": "[encoded data removed]"
          },
          "metadata": {}
        }
      ],
      "source": [
        "\n",
        "# Plot confusion matrix\n",
        "cm = confusion_matrix(y_test, y_pred)\n",
        "plt.figure(figsize=(6, 4))\n",
        "sns.heatmap(cm, annot=True, fmt='d', cmap='Blues', xticklabels=iris.target_names, yticklabels=iris.target_names)\n",
        "plt.title(\"Confusion Matrix\")\n",
        "plt.xlabel(\"Predicted Label\")\n",
        "plt.ylabel(\"True Label\")\n",
        "plt.show()\n"
      ]
    },
    {
      "cell_type": "code",
      "execution_count": 6,
      "id": "a007fd00",
      "metadata": {
        "colab": {
          "base_uri": "https://localhost:8080/"
        },
        "id": "a007fd00",
        "outputId": "36087abd-17de-4972-9fa4-66bdd0f1b70c"
      },
      "outputs": [
        {
          "output_type": "stream",
          "name": "stdout",
          "text": [
            "Best Parameters: {'C': 1, 'solver': 'lbfgs'}\n",
            "Best Cross-Validation Score: 0.9666666666666668\n",
            "Test Accuracy with Best Model: 0.9666666666666667\n"
          ]
        }
      ],
      "source": [
        "\n",
        "# Hyperparameter tuning using GridSearchCV\n",
        "param_grid = {'C': [0.1, 1, 10, 100], 'solver': ['liblinear', 'lbfgs']}\n",
        "grid = GridSearchCV(LogisticRegression(max_iter=200), param_grid, cv=5, scoring='accuracy')\n",
        "grid.fit(X_train, y_train)\n",
        "\n",
        "print(\"Best Parameters:\", grid.best_params_)\n",
        "print(\"Best Cross-Validation Score:\", grid.best_score_)\n",
        "print(\"Test Accuracy with Best Model:\", grid.score(X_test, y_test))\n"
      ]
    },
    {
      "cell_type": "markdown",
      "id": "c499197f",
      "metadata": {
        "id": "c499197f"
      },
      "source": [
        "\n",
        "## Key Takeaway\n",
        "\n",
        "Model evaluation isn't just about metrics — it's about **building trust** in your models.  \n",
        "Cross-validation and proper performance metrics ensure that your model performs well not just on your dataset, but in the real world too.  \n",
        "\n"
      ]
    },
    {
      "cell_type": "code",
      "source": [],
      "metadata": {
        "id": "Sc0arCQkwkSU"
      },
      "id": "Sc0arCQkwkSU",
      "execution_count": null,
      "outputs": []
    }
  ],
  "metadata": {
    "colab": {
      "provenance": []
    },
    "language_info": {
      "name": "python"
    },
    "kernelspec": {
      "name": "python3",
      "display_name": "Python 3"
    }
  },
  "nbformat": 4,
  "nbformat_minor": 5
}